{
 "cells": [
  {
   "cell_type": "code",
   "execution_count": null,
   "metadata": {},
   "outputs": [],
   "source": [
    "import os\n",
    "\n",
    "import pandas as pd\n",
    "import numpy as np\n",
    "import torch\n",
    "from sklearn.metrics import roc_curve, precision_recall_curve, auc\n",
    "import matplotlib.pyplot as plt\n",
    "from collections import defaultdict"
   ]
  },
  {
   "cell_type": "code",
   "execution_count": null,
   "metadata": {},
   "outputs": [],
   "source": [
    "def plot_exp(exp, title, n_splits=5):\n",
    "    fig, (ax1, ax2) = plt.subplots(nrows=1, ncols=2, figsize=(10, 5))\n",
    "    data = defaultdict(lambda: defaultdict(list))\n",
    "    mean_fpr = np.linspace(0, 1, 100)\n",
    "    mean_recall = np.linspace(0, 1, 100)\n",
    "\n",
    "    for split in range(n_splits):\n",
    "        results = torch.load(f\"runs/predict-{exp}/predict-{exp}-test-{split}/predictions_rank_0.pt\")\n",
    "        trues = results[\"trues\"]\n",
    "        n_targets = trues.numpy().max()+1\n",
    "\n",
    "        for target in range(n_targets):\n",
    "            preds = results[\"preds\"][:, target]\n",
    "            fpr, tpr, _ = roc_curve(trues, preds, pos_label=target)\n",
    "            interp_tpr = np.interp(mean_fpr, fpr, tpr)\n",
    "            interp_tpr[0] = 0.0\n",
    "            interp_tpr[-1] = 1.0\n",
    "            data[target][\"tpr\"].append(interp_tpr)\n",
    "            data[target][\"auroc\"].append(auc(fpr, tpr))\n",
    "\n",
    "            precision, recall, _ = precision_recall_curve(trues, preds, pos_label=target)\n",
    "            interp_precision = np.interp(mean_recall[::-1], recall[::-1], precision[::-1])[::-1]\n",
    "            interp_precision[0] = 1.0\n",
    "            interp_precision[-1] = 0.0\n",
    "            data[target][\"precision\"].append(interp_precision)\n",
    "            data[target][\"auprc\"].append(auc(recall, precision))\n",
    "\n",
    "    for target, metrics in data.items():\n",
    "        mean_tpr = np.mean(metrics[\"tpr\"], axis=0)\n",
    "        mean_auroc = np.mean(metrics[\"auroc\"])\n",
    "        std_auroc = np.std(metrics[\"auroc\"])\n",
    "        l = ax1.plot(mean_fpr, mean_tpr, label=f\"{target} (AUROC={mean_auroc:0.2f}±{std_auroc:0.2f})\")\n",
    "\n",
    "        std_tpr = np.std(metrics[\"tpr\"], axis=0)\n",
    "        tprs_upper = np.minimum(mean_tpr + std_tpr, 1)\n",
    "        tprs_lower = np.maximum(mean_tpr - std_tpr, 0)\n",
    "        ax1.fill_between(\n",
    "            mean_fpr,\n",
    "            tprs_lower,\n",
    "            tprs_upper,\n",
    "            color=l[0].get_color(),\n",
    "            alpha=0.2,\n",
    "            # label=\"1 std. dev.\",\n",
    "        )\n",
    "\n",
    "        mean_precision = np.mean(metrics[\"precision\"], axis=0)\n",
    "        mean_auprc = np.mean(metrics[\"auprc\"])\n",
    "        std_auprc = np.std(metrics[\"auprc\"])\n",
    "        ax2.plot(mean_recall, mean_precision, label=f\"{target} (AUPRC={mean_auprc:0.2f}±{std_auprc:0.2f})\")\n",
    "\n",
    "        std_precision = np.std(metrics[\"precision\"], axis=0)\n",
    "        precision_upper = np.minimum(mean_precision + std_precision, 1)\n",
    "        precision_lower = np.maximum(mean_precision - std_precision, 0)\n",
    "        ax2.fill_between(\n",
    "            mean_recall,\n",
    "            precision_lower,\n",
    "            precision_upper,\n",
    "            color=l[0].get_color(),\n",
    "            alpha=0.2,\n",
    "            # label=\"1 std. dev.\",\n",
    "        )\n",
    "\n",
    "    ax1.legend(title=f\"{title} Class\", loc=\"lower right\")\n",
    "    ax2.legend(title=f\"{title} Class\", loc=\"lower right\")\n",
    "\n",
    "    ax1.set_title(f\"{title} ROC Curve\")\n",
    "    ax2.set_title(f\"{title} PR Curve\")\n",
    "\n",
    "    ax1.set_xlabel(\"1 - Specificity\")\n",
    "    ax1.set_ylabel(\"Sensitivity\")\n",
    "\n",
    "    ax2.set_xlabel(\"Recall\")\n",
    "    ax2.set_ylabel(\"Precision\")\n",
    "\n",
    "    return fig"
   ]
  },
  {
   "cell_type": "code",
   "execution_count": null,
   "metadata": {},
   "outputs": [],
   "source": [
    "fig = plot_exp(exp=\"cls-iss-24h\", title=\"ISS (24h Notes)\")\n",
    "fig.tight_layout()\n",
    "fig.savefig(\"figs/cls-iss-24h.png\", dpi=300)"
   ]
  },
  {
   "cell_type": "code",
   "execution_count": null,
   "metadata": {},
   "outputs": [],
   "source": [
    "fig = plot_exp(exp=\"cls-iss-48h\", title=\"ISS (48h Notes)\")\n",
    "fig.tight_layout()\n",
    "fig.savefig(\"figs/cls-iss-48h.png\", dpi=300)"
   ]
  },
  {
   "cell_type": "code",
   "execution_count": null,
   "metadata": {},
   "outputs": [],
   "source": [
    "fig = plot_exp(exp=\"cls-mort-24h\", title=\"Mortality (24h Notes)\")\n",
    "fig.tight_layout()\n",
    "fig.savefig(\"figs/cls-mort-24h.png\", dpi=300)"
   ]
  },
  {
   "cell_type": "code",
   "execution_count": null,
   "metadata": {},
   "outputs": [],
   "source": [
    "fig = plot_exp(exp=\"cls-mort-48h\", title=\"Mortality (48h Notes)\")\n",
    "fig.tight_layout()\n",
    "fig.savefig(\"figs/cls-mort-48h.png\", dpi=300)"
   ]
  },
  {
   "cell_type": "code",
   "execution_count": null,
   "metadata": {},
   "outputs": [],
   "source": []
  }
 ],
 "metadata": {
  "kernelspec": {
   "display_name": "trauma",
   "language": "python",
   "name": "python3"
  },
  "language_info": {
   "codemirror_mode": {
    "name": "ipython",
    "version": 3
   },
   "file_extension": ".py",
   "mimetype": "text/x-python",
   "name": "python",
   "nbconvert_exporter": "python",
   "pygments_lexer": "ipython3",
   "version": "3.10.16"
  }
 },
 "nbformat": 4,
 "nbformat_minor": 2
}
