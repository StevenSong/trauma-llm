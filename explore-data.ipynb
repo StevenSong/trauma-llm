{
 "cells": [
  {
   "cell_type": "code",
   "execution_count": null,
   "metadata": {},
   "outputs": [],
   "source": [
    "from pathlib import Path\n",
    "import pandas as pd\n",
    "from src.data import load_data, filter_notes, filter_patients\n",
    "\n",
    "data_dir = Path(\"/gpfs/data/benjamin-lab/Trauma_LLM/data\")\n",
    "window = 24 # hours"
   ]
  },
  {
   "cell_type": "code",
   "execution_count": null,
   "metadata": {},
   "outputs": [],
   "source": [
    "data = load_data(data_dir)\n",
    "patients = filter_patients(\n",
    "    registry=data[\"registry\"],\n",
    "    demo=data[\"demo\"],\n",
    "    disch=data[\"disch\"],\n",
    ")\n",
    "notes = filter_notes(\n",
    "    patients=patients,\n",
    "    window=window,\n",
    "    note_types=[\"hp\", \"op\", \"tert\"],\n",
    "    **data,\n",
    ")"
   ]
  },
  {
   "cell_type": "code",
   "execution_count": null,
   "metadata": {},
   "outputs": [],
   "source": [
    "notes.groupby(\"SOURCE\")[\"NOTE_ID\"].nunique()"
   ]
  },
  {
   "cell_type": "code",
   "execution_count": null,
   "metadata": {},
   "outputs": [],
   "source": [
    "notes.groupby(\"SOURCE\")[\"MRN\"].nunique()"
   ]
  },
  {
   "cell_type": "code",
   "execution_count": null,
   "metadata": {},
   "outputs": [],
   "source": [
    "# low number of tertiary notes from source, compared to total number of records in registry\n",
    "print(\"Unique patients with tertiary note\", data[\"tert\"][\"MRN\"].nunique())\n",
    "print(\"Unique patients in registry\", data[\"registry\"][\"Medical Record #\"].nunique())"
   ]
  },
  {
   "cell_type": "code",
   "execution_count": null,
   "metadata": {},
   "outputs": [],
   "source": [
    "notes[\"MRN\"].nunique()"
   ]
  },
  {
   "cell_type": "code",
   "execution_count": null,
   "metadata": {},
   "outputs": [],
   "source": []
  }
 ],
 "metadata": {
  "kernelspec": {
   "display_name": "trauma",
   "language": "python",
   "name": "python3"
  },
  "language_info": {
   "codemirror_mode": {
    "name": "ipython",
    "version": 3
   },
   "file_extension": ".py",
   "mimetype": "text/x-python",
   "name": "python",
   "nbconvert_exporter": "python",
   "pygments_lexer": "ipython3",
   "version": "3.10.16"
  }
 },
 "nbformat": 4,
 "nbformat_minor": 2
}
