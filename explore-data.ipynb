{
 "cells": [
  {
   "cell_type": "code",
   "execution_count": null,
   "metadata": {},
   "outputs": [],
   "source": [
    "from pathlib import Path\n",
    "import pandas as pd\n",
    "from src.data import load_data, filter_notes, filter_patients, compute_labels, TraumaDataset\n",
    "from tableone import TableOne\n",
    "from tqdm import tqdm\n",
    "from pqdm.processes import pqdm\n",
    "\n",
    "data_dir = Path(\"/gpfs/data/benjamin-lab/Trauma_LLM/data\")"
   ]
  },
  {
   "cell_type": "code",
   "execution_count": null,
   "metadata": {},
   "outputs": [],
   "source": [
    "src = load_data(data_dir)\n",
    "patients = filter_patients(\n",
    "    registry=src[\"registry\"],\n",
    "    demo=src[\"demo\"],\n",
    "    disch=src[\"disch\"],\n",
    ")"
   ]
  },
  {
   "cell_type": "code",
   "execution_count": null,
   "metadata": {},
   "outputs": [],
   "source": [
    "# low number of tertiary notes from source, compared to total number of records in registry\n",
    "print(\"Unique patients in registry\", src[\"registry\"][\"Medical Record #\"].nunique())\n",
    "non_dupe_mrns = src[\"registry\"][\"Medical Record #\"].drop_duplicates(keep=False)\n",
    "print(\"Registry patients with only one stay\", len(non_dupe_mrns))\n",
    "print(\"Registry patients with tertiary note (note may come from any encounter)\", src[\"tert\"].loc[src[\"tert\"][\"MRN\"].isin(non_dupe_mrns), \"MRN\"].nunique())"
   ]
  },
  {
   "cell_type": "code",
   "execution_count": null,
   "metadata": {},
   "outputs": [],
   "source": [
    "def describe_data(window):\n",
    "    notes = filter_notes(\n",
    "        patients=patients,\n",
    "        window=window,\n",
    "        note_types=[\"hp\", \"op\", \"tert\"],\n",
    "        **src,\n",
    "    )\n",
    "\n",
    "    print(\"Count number of patients\")\n",
    "    print(notes[\"MRN\"].nunique())\n",
    "    print()\n",
    "\n",
    "    print(\"Count number of notes by note type\")\n",
    "    print(notes.groupby(\"SOURCE\").size())\n",
    "    print()\n",
    "\n",
    "    print(\"Count number of patients with a given note type\")\n",
    "    print(notes.groupby(\"SOURCE\")[\"MRN\"].nunique())\n",
    "    print()\n",
    "\n",
    "    df = patients[patients[\"MRN\"].isin(notes[\"MRN\"])].sort_values(\"MRN\").reset_index(drop=True)\n",
    "    temp = notes.groupby(\"MRN\")[\"SOURCE\"].value_counts().reset_index()\n",
    "    note_counts = temp.pivot(index=\"MRN\", columns=\"SOURCE\", values=\"count\").fillna(0).astype(int)\n",
    "    note_counts.columns = sorted([f\"NOTE ({x.upper()})\" for x in note_counts.columns])\n",
    "    note_counts = note_counts.sort_values(\"MRN\").reset_index(drop=True)\n",
    "    labels, _ = compute_labels(df)\n",
    "\n",
    "    df[\"AGE\"] = (df[\"ED_ARRIVAL_DTTM\"] - df[\"DOB\"]).dt.days / 365\n",
    "    df[\"LOS\"] = (df[\"HSP_DC_DTTM\"] - df[\"ED_ARRIVAL_DTTM\"]).dt.days\n",
    "    df[\"MORTALITY\"] = labels[\"hospital_mortality\"].replace({0: \"Alive\", 1: \"Deceased\"})\n",
    "    df[\"ISS (TERCILE)\"] = labels[\"iss_tercile\"].replace(\n",
    "        {0: \"[0,25]\", 1: \"(25,50]\", 2: \"(50,75]\"}\n",
    "    )\n",
    "    df[\"SEX\"] = df[\"GENDER\"]\n",
    "    df[\"RACE\"] = (\n",
    "        df[\"RACE\"]\n",
    "        .fillna(\"Unknown\")\n",
    "        .replace(\n",
    "            {\n",
    "                \"White\": \"White\",\n",
    "                \"Asian/Mideast Indian\": \"Asian\",\n",
    "                \"Black or African-American\": \"Black\",\n",
    "                \"None of the above\": \"Other\",\n",
    "                \"Unknown or Patient unable to respond\": \"Unknown\",\n",
    "                \"More than one Race\": \"Other\",\n",
    "                \"Patient declines to respond\": \"Unknown\",\n",
    "                \"Other Asian\": \"Asian\",\n",
    "                \"American Indian or Alaska Native\": \"AIAN\",\n",
    "                \"Native Hawaiian/Other Pacific Islander\": \"NHPI\",\n",
    "                \"Asian Indian\": \"Asian\",\n",
    "                \"Other Pacific Islander\": \"NHPI\",\n",
    "                \"Filipino\": \"Asian\",\n",
    "                \"Chinese\": \"Asian\",\n",
    "            }\n",
    "        )\n",
    "    )\n",
    "    df[\"ETHNICITY\"] = (\n",
    "        df[\"ETHNICITY\"]\n",
    "        .fillna(\"Unknown\")\n",
    "        .replace(\n",
    "            {\n",
    "                \"Not Hispanic, Latino/a, or Spanish origin\": \"Not Hispanic or Latino\",\n",
    "                \"Patient declines to respond\": \"Unknown\",\n",
    "                \"Hispanic or Latino\": \"Hispanic or Latino\",\n",
    "                \"Unknown or Patient unable to respond\": \"Unknown\",\n",
    "                \"Other Hispanic, Latino/a, or Spanish origin\": \"Hispanic or Latino\",\n",
    "                \"Mexican, Mexican American, or Chicano/a\": \"Hispanic or Latino\",\n",
    "                \"Cuban\": \"Hispanic or Latino\",\n",
    "                \"Puerto Rican\": \"Hispanic or Latino\",\n",
    "            }\n",
    "        )\n",
    "    )\n",
    "\n",
    "    data = pd.concat([df, note_counts], axis=1)\n",
    "    tb1s = {\n",
    "        k: TableOne(\n",
    "            data=data,\n",
    "            columns=[\"GENDER\", \"RACE\", \"ETHNICITY\", \"AGE\", \"MORTALITY\", \"ISS\", \"ISS (TERCILE)\", \"LOS\", \"NOTE (HP)\", \"NOTE (OP)\", \"NOTE (TERT)\"],\n",
    "            # categorical=[\"GENDER\", \"RACE\", \"ETHNICITY\", \"MORTALITY\", \"ISS (TERCILE)\"],\n",
    "            # continuous=[\"AGE\", \"ISS\", \"LOS\", \"NOTE (HP)\", \"NOTE (OP)\", \"NOTE (TERT)\"],\n",
    "            # nonnormal=[\"AGE\", \"ISS\", \"LOS\", \"NOTE (HP)\", \"NOTE (OP)\", \"NOTE (TERT)\"],\n",
    "            categorical=[\"GENDER\", \"RACE\", \"ETHNICITY\", \"MORTALITY\", \"ISS (TERCILE)\", \"NOTE (HP)\", \"NOTE (OP)\", \"NOTE (TERT)\"],\n",
    "            continuous=[\"AGE\", \"ISS\", \"LOS\"],\n",
    "            nonnormal=[\"AGE\", \"ISS\", \"LOS\"],\n",
    "            groupby=k,\n",
    "            missing=False,\n",
    "            decimals = {\n",
    "                \"ISS\": 0,\n",
    "                \"LOS\": 0,\n",
    "                # \"NOTE (HP)\": 0,\n",
    "                # \"NOTE (OP)\": 0,\n",
    "                # \"NOTE (TERT)\": 0,\n",
    "            },\n",
    "            order = {\n",
    "                \"ISS (TERCILE)\": [\"[0,25]\",\"(25,50]\", \"(50,75]\"]\n",
    "            },\n",
    "        )\n",
    "        for k in [\"MORTALITY\", \"ISS (TERCILE)\"]\n",
    "    }\n",
    "    return tb1s"
   ]
  },
  {
   "cell_type": "code",
   "execution_count": null,
   "metadata": {},
   "outputs": [],
   "source": [
    "tb1s_24h = describe_data(window=24)"
   ]
  },
  {
   "cell_type": "code",
   "execution_count": null,
   "metadata": {},
   "outputs": [],
   "source": [
    "tb1s_48h = describe_data(window=48)"
   ]
  },
  {
   "cell_type": "code",
   "execution_count": null,
   "metadata": {},
   "outputs": [],
   "source": [
    "tb1s_48h[\"ISS (TERCILE)\"].tableone"
   ]
  },
  {
   "cell_type": "code",
   "execution_count": null,
   "metadata": {},
   "outputs": [],
   "source": [
    "tb1s_48h[\"ISS (TERCILE)\"].tableone.loc[[\"NOTE (HP), n (%)\", \"NOTE (OP), n (%)\", \"NOTE (TERT), n (%)\"]]"
   ]
  },
  {
   "cell_type": "code",
   "execution_count": null,
   "metadata": {},
   "outputs": [],
   "source": [
    "tb1s_24h[\"MORTALITY\"].to_csv(\"figs/tab1-mort-24h.csv\")\n",
    "tb1s_24h[\"ISS (TERCILE)\"].to_csv(\"figs/tab1-iss-24h.csv\")\n",
    "tb1s_48h[\"MORTALITY\"].to_csv(\"figs/tab1-mort-48h.csv\")\n",
    "tb1s_48h[\"ISS (TERCILE)\"].to_csv(\"figs/tab1-iss-48h.csv\")"
   ]
  },
  {
   "cell_type": "code",
   "execution_count": null,
   "metadata": {},
   "outputs": [],
   "source": [
    "ds24h = TraumaDataset(\n",
    "    data_dir=data_dir,\n",
    "    window=24,\n",
    "    note_types=[\"hp\", \"op\", \"tert\"],\n",
    "    tokenizer_name=\"whaleloops/clinicalmamba-130m-hf\",\n",
    "    context_length=16384,\n",
    "    debug_len=True,\n",
    ")\n",
    "\n",
    "ds48h = TraumaDataset(\n",
    "    data_dir=data_dir,\n",
    "    window=48,\n",
    "    note_types=[\"hp\", \"op\", \"tert\"],\n",
    "    tokenizer_name=\"whaleloops/clinicalmamba-130m-hf\",\n",
    "    context_length=16384,\n",
    "    debug_len=True,\n",
    ")"
   ]
  },
  {
   "cell_type": "code",
   "execution_count": null,
   "metadata": {},
   "outputs": [],
   "source": [
    "def get_24h_len(x):\n",
    "    return ds24h[x]\n",
    "lens24h = pqdm(list(range(len(ds24h))), get_24h_len, n_jobs=8)\n",
    "\n",
    "def get_48h_len(x):\n",
    "    return ds48h[x]\n",
    "lens48h = pqdm(list(range(len(ds48h))), get_48h_len, n_jobs=8)"
   ]
  },
  {
   "cell_type": "code",
   "execution_count": null,
   "metadata": {},
   "outputs": [],
   "source": [
    "pd.Series(lens24h).describe(percentiles=[.25, .50, .75, .80, .90, .95, .96, .97, .98, .985, .99])"
   ]
  },
  {
   "cell_type": "code",
   "execution_count": null,
   "metadata": {},
   "outputs": [],
   "source": [
    "pd.Series(lens48h).describe(percentiles=[.25, .50, .75, .80, .90, .95, .96, .97, .98, .985, .99])"
   ]
  },
  {
   "cell_type": "code",
   "execution_count": null,
   "metadata": {},
   "outputs": [],
   "source": []
  }
 ],
 "metadata": {
  "kernelspec": {
   "display_name": "trauma",
   "language": "python",
   "name": "python3"
  },
  "language_info": {
   "codemirror_mode": {
    "name": "ipython",
    "version": 3
   },
   "file_extension": ".py",
   "mimetype": "text/x-python",
   "name": "python",
   "nbconvert_exporter": "python",
   "pygments_lexer": "ipython3",
   "version": "3.10.16"
  }
 },
 "nbformat": 4,
 "nbformat_minor": 2
}
